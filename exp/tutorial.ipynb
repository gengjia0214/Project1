{
 "cells": [
  {
   "cell_type": "markdown",
   "metadata": {
    "collapsed": true,
    "pycharm": {
     "name": "#%% md\n"
    }
   },
   "source": [
    "# Sudoku Solver Evaluation"
   ]
  },
  {
   "cell_type": "markdown",
   "source": [
    "## How to check whether your implemented algorithm is correct \n",
    "\n",
    "Follow the below steps to check whether your algorithm is correct"
   ],
   "metadata": {
    "collapsed": false,
    "pycharm": {
     "name": "#%% md\n"
    }
   }
  },
  {
   "cell_type": "code",
   "execution_count": 12,
   "outputs": [
    {
     "traceback": [
      "\u001b[0;31m---------------------------------------------------------------------------\u001b[0m",
      "\u001b[0;31mFileNotFoundError\u001b[0m                         Traceback (most recent call last)",
      "\u001b[0;32m<ipython-input-12-1d4809b51aee>\u001b[0m in \u001b[0;36m<module>\u001b[0;34m\u001b[0m\n\u001b[1;32m      7\u001b[0m \u001b[0;31m# load all test cases\u001b[0m\u001b[0;34m\u001b[0m\u001b[0;34m\u001b[0m\u001b[0;34m\u001b[0m\u001b[0m\n\u001b[1;32m      8\u001b[0m \u001b[0mtest_cases\u001b[0m \u001b[0;34m=\u001b[0m \u001b[0mSudoku\u001b[0m\u001b[0;34m.\u001b[0m\u001b[0mparser\u001b[0m\u001b[0;34m(\u001b[0m\u001b[0mtest_path\u001b[0m\u001b[0;34m)\u001b[0m\u001b[0;34m\u001b[0m\u001b[0;34m\u001b[0m\u001b[0m\n\u001b[0;32m----> 9\u001b[0;31m \u001b[0munsolvable_cases\u001b[0m \u001b[0;34m=\u001b[0m \u001b[0mSudoku\u001b[0m\u001b[0;34m.\u001b[0m\u001b[0mparser\u001b[0m\u001b[0;34m(\u001b[0m\u001b[0munsolvable_path\u001b[0m\u001b[0;34m)\u001b[0m\u001b[0;34m\u001b[0m\u001b[0;34m\u001b[0m\u001b[0m\n\u001b[0m",
      "\u001b[0;32m~/Documents/Git/ECE637-Project1/src/sudoku.py\u001b[0m in \u001b[0;36mparser\u001b[0;34m(src_p)\u001b[0m\n\u001b[1;32m    214\u001b[0m \u001b[0;34m\u001b[0m\u001b[0m\n\u001b[1;32m    215\u001b[0m         \u001b[0mparsed_data\u001b[0m \u001b[0;34m=\u001b[0m \u001b[0;34m[\u001b[0m\u001b[0;34m]\u001b[0m\u001b[0;34m\u001b[0m\u001b[0;34m\u001b[0m\u001b[0m\n\u001b[0;32m--> 216\u001b[0;31m         \u001b[0;32mwith\u001b[0m \u001b[0mopen\u001b[0m\u001b[0;34m(\u001b[0m\u001b[0msrc_p\u001b[0m\u001b[0;34m,\u001b[0m \u001b[0mmode\u001b[0m\u001b[0;34m=\u001b[0m\u001b[0;34m'r'\u001b[0m\u001b[0;34m)\u001b[0m \u001b[0;32mas\u001b[0m \u001b[0mcsv_file\u001b[0m\u001b[0;34m:\u001b[0m\u001b[0;34m\u001b[0m\u001b[0;34m\u001b[0m\u001b[0m\n\u001b[0m\u001b[1;32m    217\u001b[0m             \u001b[0mreader\u001b[0m \u001b[0;34m=\u001b[0m \u001b[0mcsv\u001b[0m\u001b[0;34m.\u001b[0m\u001b[0mreader\u001b[0m\u001b[0;34m(\u001b[0m\u001b[0mcsv_file\u001b[0m\u001b[0;34m,\u001b[0m \u001b[0mdelimiter\u001b[0m\u001b[0;34m=\u001b[0m\u001b[0;34m','\u001b[0m\u001b[0;34m)\u001b[0m\u001b[0;34m\u001b[0m\u001b[0;34m\u001b[0m\u001b[0m\n\u001b[1;32m    218\u001b[0m             \u001b[0mline_count\u001b[0m \u001b[0;34m=\u001b[0m \u001b[0;36m0\u001b[0m\u001b[0;34m\u001b[0m\u001b[0;34m\u001b[0m\u001b[0m\n",
      "\u001b[0;31mFileNotFoundError\u001b[0m: [Errno 2] No such file or directory: '/home/jgeng/Documents/Git/ECE637-Project1/input/unsolvable.csv'"
     ],
     "ename": "FileNotFoundError",
     "evalue": "[Errno 2] No such file or directory: '/home/jgeng/Documents/Git/ECE637-Project1/input/unsolvable.csv'",
     "output_type": "error"
    }
   ],
   "source": [
    "from src.sudoku import Sudoku\n",
    "\n",
    "# change this to the test.csv path on your machine\n",
    "test_path = '/home/jgeng/Documents/Git/ECE637-Project1/input/test.csv'\n",
    "unsolvable_path = '/home/jgeng/Documents/Git/ECE637-Project1/input/unsolvable.csv'\n",
    "\n",
    "# load all test cases\n",
    "test_cases = Sudoku.parser(test_path)\n",
    "unsolvable_cases = Sudoku.parser(unsolvable_path)"
   ],
   "metadata": {
    "collapsed": false,
    "pycharm": {
     "name": "#%%\n",
     "is_executing": false
    }
   }
  },
  {
   "cell_type": "code",
   "execution_count": 13,
   "outputs": [
    {
     "name": "stdout",
     "text": [
      "Number of test cases: 51\n",
      "Input     ....41....6.....2...2......32.6.........5..417.......2......23..48......5.1..2... \n",
      "Solution  False\n",
      " \n",
      "Input     6.3.5..1.4...39.8....46.5.3.......468.5...1.........9..4.7.8..9..6...7...1....... \n",
      "Solution  623857914457139682198462573971583246865294137234671895542718369386945721719326458\n",
      " \n",
      "Input     .1...427.2.....419........6.2.4.73.1..4.93...7..6.....8......9.4....68.2...2..7.. \n",
      "Solution  315964278276538419948172536629457381154893627783621945862745193497316852531289764\n",
      " \n"
     ],
     "output_type": "stream"
    }
   ],
   "source": [
    "# number of test cases\n",
    "print(\"Number of test cases:\", len(test_cases))\n",
    "\n",
    "# check what does the input look like\n",
    "for test_case in test_cases[5:8]:\n",
    "    print(\"{:10}{} \\n{:10}{}\\n \".format(\"Input\", test_case['puzzle'], \"Solution\", test_case['solution']))"
   ],
   "metadata": {
    "collapsed": false,
    "pycharm": {
     "name": "#%%\n",
     "is_executing": false
    }
   }
  },
  {
   "cell_type": "code",
   "execution_count": 14,
   "outputs": [
    {
     "name": "stdout",
     "text": [
      "Sudoku input is not valid.\n",
      "Sudoku input is not valid.\n",
      "Sudoku input is not valid.\n",
      "Found solution in 0 ms\n",
      "Found solution in 6 ms\n",
      "Found solution in 410 ms\n",
      "Found solution in 3 ms\n",
      "Found solution in 16 ms\n",
      "Found solution in 0 ms\n",
      "Found solution in 3 ms\n",
      "Found solution in 15 ms\n",
      "Found solution in 4 ms\n",
      "Found solution in 10 ms\n",
      "Found solution in 1 ms\n",
      "Found solution in 77 ms\n",
      "Found solution in 0 ms\n",
      "Found solution in 1 ms\n",
      "Found solution in 27 ms\n",
      "Found solution in 1 ms\n",
      "Found solution in 12 ms\n",
      "Found solution in 8 ms\n",
      "Found solution in 1 ms\n",
      "Found solution in 17 ms\n",
      "Found solution in 6 ms\n",
      "Found solution in 5 ms\n",
      "Found solution in 1 ms\n",
      "Found solution in 2 ms\n",
      "Found solution in 5 ms\n",
      "Found solution in 14 ms\n",
      "Found solution in 13 ms\n",
      "Found solution in 3 ms\n",
      "Found solution in 11 ms\n",
      "Found solution in 40 ms\n",
      "Found solution in 4 ms\n",
      "Found solution in 1 ms\n",
      "Found solution in 4 ms\n",
      "Found solution in 2 ms\n",
      "Found solution in 2 ms\n",
      "Found solution in 7 ms\n",
      "Found solution in 0 ms\n",
      "Found solution in 8 ms\n",
      "Found solution in 252 ms\n",
      "Found solution in 52 ms\n",
      "Found solution in 0 ms\n",
      "Found solution in 67 ms\n",
      "Found solution in 2 ms\n",
      "Found solution in 1 ms\n",
      "Found solution in 0 ms\n",
      "Found solution in 14 ms\n",
      "Found solution in 11 ms\n",
      "Found solution in 1 ms\n"
     ],
     "output_type": "stream"
    }
   ],
   "source": [
    "# init a solver instance\n",
    "solver = Sudoku()\n",
    "\n",
    "# Run you algorithm on each test case\n",
    "# The first three test cases should be detected as invalid input\n",
    "# As long as there are no Exceptions are raised, your algorithm is good!\n",
    "for test_case in test_cases:\n",
    "    # read input check whether the input is valid\n",
    "    is_valid = solver.read_sudoku(test_case)  \n",
    "    if not is_valid: \n",
    "        print(\"Sudoku input is not valid.\")  \n",
    "        continue\n",
    "    \n",
    "    # solve each soduku 10 times and take the average \n",
    "    has_solution, time = solver.solve_sudoku(mode='dfs', repeat=10)\n",
    "    print(\"Found solution in {} ms\".format(time))\n"
   ],
   "metadata": {
    "collapsed": false,
    "pycharm": {
     "name": "#%%\n",
     "is_executing": false
    }
   }
  },
  {
   "cell_type": "code",
   "execution_count": null,
   "outputs": [],
   "source": [
    "\n"
   ],
   "metadata": {
    "collapsed": false,
    "pycharm": {
     "name": "#%%\n"
    }
   }
  }
 ],
 "metadata": {
  "kernelspec": {
   "display_name": "Python 3",
   "language": "python",
   "name": "python3"
  },
  "language_info": {
   "codemirror_mode": {
    "name": "ipython",
    "version": 2
   },
   "file_extension": ".py",
   "mimetype": "text/x-python",
   "name": "python",
   "nbconvert_exporter": "python",
   "pygments_lexer": "ipython2",
   "version": "2.7.6"
  },
  "pycharm": {
   "stem_cell": {
    "cell_type": "raw",
    "source": [],
    "metadata": {
     "collapsed": false
    }
   }
  }
 },
 "nbformat": 4,
 "nbformat_minor": 0
}