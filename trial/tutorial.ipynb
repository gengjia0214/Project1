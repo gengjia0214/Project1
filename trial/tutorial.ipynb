{
 "cells": [
  {
   "cell_type": "markdown",
   "metadata": {
    "collapsed": true,
    "pycharm": {
     "name": "#%% md\n"
    }
   },
   "source": [
    "# Sudoku Solver Tutorial"
   ]
  },
  {
   "cell_type": "markdown",
   "source": [
    "## How to check whether your implemented algorithm is correct \n",
    "\n",
    "Follow the below steps to check whether your algorithm is correct"
   ],
   "metadata": {
    "collapsed": false,
    "pycharm": {
     "name": "#%% md\n"
    }
   }
  },
  {
   "cell_type": "code",
   "execution_count": 1,
   "outputs": [],
   "source": [
    "from src.sudoku import Sudoku\n",
    "import csv\n",
    "\n",
    "# change this to the test.csv path on your machine\n",
    "test_path = '/home/jgeng/Documents/Git/ECE637-Project1/input/test.csv'\n",
    "\n",
    "# load all test cases\n",
    "test_cases = Sudoku.parser(test_path)"
   ],
   "metadata": {
    "collapsed": false,
    "pycharm": {
     "name": "#%%\n",
     "is_executing": false
    }
   }
  },
  {
   "cell_type": "code",
   "execution_count": 2,
   "outputs": [
    {
     "name": "stdout",
     "text": [
      "Number of test cases: 51\n",
      "Input     ....41....6.....2...2......32.6.........5..417.......2......23..48......5.1..2... \n",
      "Solution  False\n",
      " \n",
      "Input     6.3.5..1.4...39.8....46.5.3.......468.5...1.........9..4.7.8..9..6...7...1....... \n",
      "Solution  623857914457139682198462573971583246865294137234671895542718369386945721719326458\n",
      " \n",
      "Input     .1...427.2.....419........6.2.4.73.1..4.93...7..6.....8......9.4....68.2...2..7.. \n",
      "Solution  315964278276538419948172536629457381154893627783621945862745193497316852531289764\n",
      " \n"
     ],
     "output_type": "stream"
    }
   ],
   "source": [
    "# number of test cases\n",
    "print(\"Number of test cases:\", len(test_cases))\n",
    "\n",
    "# check what does the input look like\n",
    "for test_case in test_cases[5:8]:\n",
    "    print(\"{:10}{} \\n{:10}{}\\n \".format(\"Input\", test_case['puzzle'], \"Solution\", test_case['solution']))"
   ],
   "metadata": {
    "collapsed": false,
    "pycharm": {
     "name": "#%%\n",
     "is_executing": false
    }
   }
  },
  {
   "cell_type": "code",
   "execution_count": null,
   "outputs": [
    {
     "name": "stdout",
     "text": [
      "Sudoku input is not valid.\n",
      "Sudoku input is not valid.\n",
      "Sudoku input is not valid.\n",
      "Found solution for 4-th case in 0 ms\n",
      "Found solution for 5-th case in 6 ms\n",
      "Found solution for 6-th case in 442 ms\n",
      "Found solution for 7-th case in 3 ms\n",
      "Found solution for 8-th case in 16 ms\n",
      "Found solution for 9-th case in 0 ms\n",
      "Found solution for 10-th case in 3 ms\n",
      "Found solution for 11-th case in 20 ms\n",
      "Found solution for 12-th case in 4 ms\n",
      "Found solution for 13-th case in 12 ms\n",
      "Found solution for 14-th case in 2 ms\n"
     ],
     "output_type": "stream"
    }
   ],
   "source": [
    "# init a solver instance\n",
    "solver = Sudoku()\n",
    "\n",
    "# Run you algorithm on each test case\n",
    "# The first three test cases should be detected as invalid input\n",
    "# As long as there are no Exceptions are raised, your algorithm is good!\n",
    "results = []\n",
    "for i, test_case in enumerate(test_cases):\n",
    "    # read input check whether the input is valid\n",
    "    is_valid = solver.read_sudoku(test_case)  \n",
    "    if not is_valid: \n",
    "        print(\"Sudoku input is not valid.\")  \n",
    "        continue\n",
    "    # solve each soduku 10 times and take the average \n",
    "    has_solution, time = solver.solve_sudoku(mode='dfs')\n",
    "    print(\"Found solution for {}-th case in {} ms\".format(i+1, time))\n"
   ],
   "metadata": {
    "collapsed": false,
    "pycharm": {
     "name": "#%%\n",
     "is_executing": true
    }
   }
  },
  {
   "cell_type": "code",
   "execution_count": null,
   "outputs": [],
   "source": [
    "\n"
   ],
   "metadata": {
    "collapsed": false,
    "pycharm": {
     "name": "#%%\n",
     "is_executing": true
    }
   }
  }
 ],
 "metadata": {
  "kernelspec": {
   "display_name": "Python 3",
   "language": "python",
   "name": "python3"
  },
  "language_info": {
   "codemirror_mode": {
    "name": "ipython",
    "version": 2
   },
   "file_extension": ".py",
   "mimetype": "text/x-python",
   "name": "python",
   "nbconvert_exporter": "python",
   "pygments_lexer": "ipython2",
   "version": "2.7.6"
  },
  "pycharm": {
   "stem_cell": {
    "cell_type": "raw",
    "source": [],
    "metadata": {
     "collapsed": false
    }
   }
  }
 },
 "nbformat": 4,
 "nbformat_minor": 0
}